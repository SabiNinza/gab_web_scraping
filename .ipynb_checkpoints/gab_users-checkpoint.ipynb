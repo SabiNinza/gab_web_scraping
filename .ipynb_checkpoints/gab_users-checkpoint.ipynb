{
 "cells": [
  {
   "cell_type": "code",
   "execution_count": 1,
   "id": "affiliated-archives",
   "metadata": {},
   "outputs": [],
   "source": [
    "# !pip install selenium\n",
    "#import \n",
    "from selenium import webdriver\n",
    "from selenium.common.exceptions import NoSuchElementException\n",
    "import time\n",
    "\n",
    "#start webdriver\n",
    "driver=webdriver.Chrome(executable_path='chromedriver_linux64/chromedriver')\n",
    "driver.maximize_window()"
   ]
  },
  {
   "cell_type": "code",
   "execution_count": null,
   "id": "grave-eight",
   "metadata": {},
   "outputs": [],
   "source": []
  },
  {
   "cell_type": "markdown",
   "id": "acting-briefs",
   "metadata": {},
   "source": [
    "## Scrap User Name"
   ]
  },
  {
   "cell_type": "code",
   "execution_count": null,
   "id": "communist-webmaster",
   "metadata": {},
   "outputs": [],
   "source": []
  },
  {
   "cell_type": "markdown",
   "id": "becoming-chicken",
   "metadata": {},
   "source": [
    "# login"
   ]
  },
  {
   "cell_type": "code",
   "execution_count": 2,
   "id": "animated-winning",
   "metadata": {},
   "outputs": [],
   "source": [
    "def login(\n",
    "    username,\n",
    "    passwd,\n",
    "):\n",
    "    \"login function!\"\n",
    "    url = 'https://gab.com/auth/sign_in'\n",
    "    driver.get(url)\n",
    "    driver.implicitly_wait(10)\n",
    "    input_elements = driver.find_elements_by_tag_name('input')\n",
    "    button = driver.find_element_by_tag_name('button')\n",
    "    email = input_elements[1]\n",
    "    password = input_elements[2]\n",
    "    email.send_keys(username)\n",
    "    password.send_keys(passwd)\n",
    "    button.click()\n",
    "    time.sleep(2)"
   ]
  },
  {
   "cell_type": "code",
   "execution_count": null,
   "id": "cordless-victim",
   "metadata": {},
   "outputs": [],
   "source": []
  },
  {
   "cell_type": "markdown",
   "id": "voluntary-advantage",
   "metadata": {},
   "source": [
    "## Scrap User Info"
   ]
  },
  {
   "cell_type": "code",
   "execution_count": 3,
   "id": "warming-monitoring",
   "metadata": {},
   "outputs": [],
   "source": [
    "# timeline = driver.find_element_by_css_selector('._UuSG.w77Za._3cqkW')\n",
    "# articles = timeline.find_elements_by_tag_name('article')"
   ]
  },
  {
   "cell_type": "code",
   "execution_count": 4,
   "id": "athletic-judge",
   "metadata": {},
   "outputs": [],
   "source": [
    "# driver.execute_script(\"arguments[0].scrollIntoView();\", articles[0])\n",
    "# c_text = articles[0].find_element_by_css_selector('._UuSG')\n",
    "# box_extra = articles[0].find_elements_by_tag_name('button')\n",
    "# comment_on_text = c_text.find_elements_by_tag_name('a')[4].text\n",
    "# likes = box_extra[1].text\n",
    "# reposts = box_extra[2].text"
   ]
  },
  {
   "cell_type": "code",
   "execution_count": 5,
   "id": "applicable-purpose",
   "metadata": {},
   "outputs": [],
   "source": [
    "# for i , x in enumerate(box_extra):\n",
    "#     print(i,x.text)"
   ]
  },
  {
   "cell_type": "code",
   "execution_count": 6,
   "id": "framed-subject",
   "metadata": {},
   "outputs": [],
   "source": [
    "# for article in articles:\n",
    "#     driver.execute_script(\"arguments[0].scrollIntoView();\", article)\n",
    "    \n",
    "#     print(article.text)\n",
    "# # last_50_comment_info_extract(articles)"
   ]
  },
  {
   "cell_type": "code",
   "execution_count": 7,
   "id": "external-entity",
   "metadata": {},
   "outputs": [],
   "source": [
    "def user_info(\n",
    "    gab_user_name = \"impuneet\",\n",
    "    username = '??',\n",
    "    passwd = '??'\n",
    "):\n",
    "    \n",
    "    #login into window\n",
    "    login(\n",
    "    username=username,\n",
    "    passwd=passwd,\n",
    "    )\n",
    "    \n",
    "    \n",
    "    #open user info in another browser\n",
    "    user_info = {}\n",
    "    driver.execute_script(\"window.open('\" + \"https://gab.com/\"+ gab_user_name + \"');\")\n",
    "    driver.switch_to.window(driver.window_handles[1])\n",
    "    time.sleep(3)\n",
    "    \n",
    "    #user_name or datejoined\n",
    "    user_info['username'] = gab_user_name\n",
    "    date_box = driver.find_element_by_css_selector('._UuSG._ayWa._3dGg1.Vlb1o._1vyTb')\n",
    "    driver.execute_script(\"arguments[0].scrollIntoView();\",date_box)\n",
    "    join_element = date_box.find_elements_by_tag_name('span')\n",
    "    user_info['date_joined'] = join_element[8].text\n",
    "\n",
    "    #user_Basi._info \n",
    "    first_box = driver.find_element_by_css_selector('._UuSG.w77Za')\n",
    "    infos = first_box.find_elements_by_tag_name('a')\n",
    "    user_info['gab'] = infos[12].text\n",
    "    user_info['followers'] = infos[13].text\n",
    "    user_info['following'] = infos[14].text\n",
    "    \n",
    "    #last 50 post retries\n",
    "    timeline = driver.find_element_by_css_selector('._UuSG.w77Za._3cqkW')\n",
    "    articles = timeline.find_elements_by_tag_name('article')\n",
    "    driver.execute_script(\"arguments[0].scrollIntoView();\", articles[len(articles)-1])\n",
    "    comment_extract(\n",
    "        timeline,\n",
    "        articles\n",
    "    )\n",
    "    timeline = driver.find_element_by_css_selector('._UuSG.w77Za._3cqkW')\n",
    "    articles = timeline.find_elements_by_tag_name('article')\n",
    "    post_info = last_50_post_info_extract(articles)\n",
    "    user_info['last_50_post'] = post_info\n",
    "    \n",
    "    \n",
    "    return user_info"
   ]
  },
  {
   "cell_type": "code",
   "execution_count": 8,
   "id": "minimal-commerce",
   "metadata": {},
   "outputs": [],
   "source": [
    "def last_50_post_info_extract(\n",
    "    comments,\n",
    "):\n",
    "    comment_info = {}\n",
    "    for idx , comment in enumerate(comments):\n",
    "        comment_info[idx] = {}\n",
    "        \n",
    "        driver.execute_script(\"arguments[0].scrollIntoView();\", comment)\n",
    "        text = comment.find_element_by_css_selector('._UuSG')\n",
    "        box_extra = comment.find_elements_by_tag_name('button')\n",
    "        \n",
    "        try:\n",
    "            comts_num = text.find_elements_by_tag_name('a')[4].text\n",
    "        except:\n",
    "            comts_num = 0\n",
    "        \n",
    "        #save result in dict\n",
    "        likes = box_extra[1].text\n",
    "        reposts = box_extra[2].text\n",
    "        comment_info[idx]['text'] = text.text\n",
    "        comment_info[idx]['likes'] = likes\n",
    "        comment_info[idx]['no_of_comments'] = comts_num\n",
    "        comment_info[idx]['reposts'] = reposts\n",
    "    return comment_info"
   ]
  },
  {
   "cell_type": "code",
   "execution_count": 9,
   "id": "legitimate-racing",
   "metadata": {},
   "outputs": [],
   "source": [
    "def comment_extract(\n",
    "    timeline,\n",
    "    articles\n",
    "):\n",
    "    current_element = 0\n",
    "    while True:\n",
    "        if current_element > 50:\n",
    "            print(len(articles))\n",
    "            time.sleep(4)\n",
    "            break\n",
    "        else:\n",
    "            articles = timeline.find_elements_by_tag_name('article')\n",
    "            if current_element == len(articles):\n",
    "                break\n",
    "            driver.execute_script(\"arguments[0].scrollIntoView();\", articles[len(articles)-1])\n",
    "            print(len(articles))\n",
    "            current_element = len(articles)\n",
    "            time.sleep(4)"
   ]
  },
  {
   "cell_type": "code",
   "execution_count": 10,
   "id": "intellectual-diving",
   "metadata": {},
   "outputs": [
    {
     "name": "stdout",
     "output_type": "stream",
     "text": [
      "1\n",
      "{\n",
      "   \"username\": \"impuneet\",\n",
      "   \"date_joined\": \"\\u00b7\",\n",
      "   \"gab\": \"\",\n",
      "   \"followers\": \"\",\n",
      "   \"following\": \"1\\nGabs\",\n",
      "   \"last_50_post\": {\n",
      "      \"0\": {\n",
      "         \"text\": \"impuneet reposted\\nCatturd\\n@Catturd\\n2d\\n\\u00b7\\nFully vaccinated Secretary of Defense\\n\\n2,233 likes\\n728 comments\\n844 reposts\\nLike\\nComment\\nRepost\\nQuote\\nShare\\nWhat's on your mind?\",\n",
      "         \"likes\": \"2,233 likes\",\n",
      "         \"no_of_comments\": \"\",\n",
      "         \"reposts\": \"844 reposts\"\n",
      "      }\n",
      "   }\n",
      "}\n"
     ]
    }
   ],
   "source": [
    "import json\n",
    "json_object = user_info()\n",
    "print(json.dumps(json_object, indent = 3))\n",
    "\n",
    "#save json\n",
    "with open('data.json', 'w') as f:\n",
    "    json.dump(json_object, f)"
   ]
  },
  {
   "cell_type": "code",
   "execution_count": null,
   "id": "manual-mainstream",
   "metadata": {},
   "outputs": [],
   "source": []
  },
  {
   "cell_type": "code",
   "execution_count": null,
   "id": "naughty-arrival",
   "metadata": {},
   "outputs": [],
   "source": []
  },
  {
   "cell_type": "code",
   "execution_count": 11,
   "id": "superior-syntax",
   "metadata": {},
   "outputs": [],
   "source": [
    "# driver.execute_script(\"window.open('\" + \"https://gab.com/\"+ \"Catturd\"  + \"');\")\n",
    "# driver.switch_to.window(driver.window_handles[1])\n",
    "# time.sleep(3)"
   ]
  },
  {
   "cell_type": "code",
   "execution_count": 12,
   "id": "instrumental-slave",
   "metadata": {},
   "outputs": [],
   "source": [
    "# x = driver.find_element_by_css_selector('._UuSG.w77Za')\n",
    "# join_element = driver.find_element_by_css_selector('._UuSG._ayWa._3dGg1.Vlb1o._1vyTb')\n",
    "# driver.execute_script(\"arguments[0].scrollIntoView();\",join_element)\n",
    "# x = join_element.find_elements_by_tag_name('span')"
   ]
  },
  {
   "cell_type": "code",
   "execution_count": 13,
   "id": "decent-money",
   "metadata": {},
   "outputs": [],
   "source": [
    "# a = x.find_elements_by_tag_name('a')\n",
    "# join_element.text"
   ]
  },
  {
   "cell_type": "code",
   "execution_count": 14,
   "id": "rotary-drain",
   "metadata": {},
   "outputs": [],
   "source": [
    "# for i , x in enumerate(x):\n",
    "#     print(x.text,i)"
   ]
  },
  {
   "cell_type": "code",
   "execution_count": null,
   "id": "random-recommendation",
   "metadata": {},
   "outputs": [],
   "source": []
  }
 ],
 "metadata": {
  "kernelspec": {
   "display_name": "Python 3",
   "language": "python",
   "name": "python3"
  },
  "language_info": {
   "codemirror_mode": {
    "name": "ipython",
    "version": 3
   },
   "file_extension": ".py",
   "mimetype": "text/x-python",
   "name": "python",
   "nbconvert_exporter": "python",
   "pygments_lexer": "ipython3",
   "version": "3.8.10"
  }
 },
 "nbformat": 4,
 "nbformat_minor": 5
}
